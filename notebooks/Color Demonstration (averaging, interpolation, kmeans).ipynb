{
 "cells": [
  {
   "cell_type": "code",
   "execution_count": null,
   "metadata": {},
   "outputs": [],
   "source": [
    "import numpy as np\n",
    "import cv2\n",
    "import matplotlib.pyplot as plt\n",
    "from PIL import Image\n",
    "from sklearn.cluster import KMeans"
   ]
  },
  {
   "cell_type": "markdown",
   "metadata": {},
   "source": [
    "# Flaw of Averages"
   ]
  },
  {
   "cell_type": "markdown",
   "metadata": {},
   "source": [
    "### Driver Code"
   ]
  },
  {
   "cell_type": "code",
   "execution_count": null,
   "metadata": {},
   "outputs": [],
   "source": [
    "def create_col_pic(shape: tuple, color: np.ndarray):\n",
    "    \"\"\"Create an image of a single color\"\"\"\n",
    "    out = np.zeros(shape, dtype='uint8')\n",
    "    out[:,:,:] = color\n",
    "    return out"
   ]
  },
  {
   "cell_type": "code",
   "execution_count": null,
   "metadata": {},
   "outputs": [],
   "source": [
    "def compare(fname, save_out=None):\n",
    "    img = cv2.cvtColor(cv2.imread(fname), cv2.COLOR_RGB2BGR)\n",
    "    avg_col = np.average(img.reshape((-1, 3)), axis=0)\n",
    "    \n",
    "    plt.subplot(1,2,1)\n",
    "    plt.imshow(img)\n",
    "    plt.axis('off')\n",
    "    plt.title('Original Image')\n",
    "    \n",
    "    plt.subplot(1,2,2)\n",
    "    plt.imshow(create_col_pic(img.shape, avg_col))\n",
    "    plt.axis('off')\n",
    "    plt.title('Average Color of Image')\n",
    "    \n",
    "    if(save_out): plt.savefig(save_out)\n",
    "\n",
    "    return img, avg_col"
   ]
  },
  {
   "cell_type": "markdown",
   "metadata": {},
   "source": [
    "### Examples of Averaging being okay!"
   ]
  },
  {
   "cell_type": "code",
   "execution_count": null,
   "metadata": {},
   "outputs": [],
   "source": [
    "_,_ = compare('../demonstrations/figure1.jpg')"
   ]
  },
  {
   "cell_type": "markdown",
   "metadata": {},
   "source": [
    "##### You can't see the background surrounding the green square, but the value is (255, 255, 255)"
   ]
  },
  {
   "cell_type": "code",
   "execution_count": null,
   "metadata": {},
   "outputs": [],
   "source": [
    "_, _ = compare('../demonstrations/figure2.jpg')"
   ]
  },
  {
   "cell_type": "markdown",
   "metadata": {},
   "source": [
    "### Examples of Averaging failing..."
   ]
  },
  {
   "cell_type": "markdown",
   "metadata": {},
   "source": [
    "##### Failure to capture a range of colors"
   ]
  },
  {
   "cell_type": "code",
   "execution_count": null,
   "metadata": {},
   "outputs": [],
   "source": [
    "_, _ = compare('../demonstrations/rainbow.png')"
   ]
  },
  {
   "cell_type": "markdown",
   "metadata": {},
   "source": [
    "##### Dampening"
   ]
  },
  {
   "cell_type": "code",
   "execution_count": null,
   "metadata": {},
   "outputs": [],
   "source": [
    "_, _ = compare('../demonstrations/figure3.jpg')"
   ]
  },
  {
   "cell_type": "markdown",
   "metadata": {},
   "source": [
    "### Examples of Averages being... dubious?"
   ]
  },
  {
   "cell_type": "code",
   "execution_count": null,
   "metadata": {},
   "outputs": [],
   "source": [
    "_, _ = compare('../demonstrations/red_blue.png')"
   ]
  },
  {
   "cell_type": "code",
   "execution_count": null,
   "metadata": {},
   "outputs": [],
   "source": [
    "_, _ = compare('../demonstrations/black_white.png')"
   ]
  },
  {
   "cell_type": "markdown",
   "metadata": {},
   "source": [
    "### Examples on some test screenshots"
   ]
  },
  {
   "cell_type": "code",
   "execution_count": null,
   "metadata": {},
   "outputs": [],
   "source": [
    "_, _ = compare('../demonstrations/madmax_clip.jpg')"
   ]
  },
  {
   "cell_type": "code",
   "execution_count": null,
   "metadata": {},
   "outputs": [],
   "source": [
    "_, _ = compare('../demonstrations/spideman_city_clip.jpg')"
   ]
  },
  {
   "cell_type": "code",
   "execution_count": null,
   "metadata": {},
   "outputs": [],
   "source": [
    "_, _ = compare('../demonstrations/spiderman_clip_green.jpg')"
   ]
  },
  {
   "cell_type": "markdown",
   "metadata": {},
   "source": [
    "# Interpolation Doesn't Seem that Great"
   ]
  },
  {
   "cell_type": "code",
   "execution_count": null,
   "metadata": {},
   "outputs": [],
   "source": [
    "def compare_interpolation(fname, width1, width2, method, save_out=None):\n",
    "    raw = cv2.cvtColor(cv2.imread(fname), cv2.COLOR_RGB2BGR)\n",
    "    plt.figure(figsize=(12,24))\n",
    "    plt.axis('off')\n",
    "    plt.subplot(1,3,1)\n",
    "    plt.imshow(raw)\n",
    "    plt.title('original image')\n",
    "    \n",
    "    plt.subplot(1,3,2)\n",
    "    img1 = cv2.resize(raw, (width1, raw.shape[0]), interpolation=method)\n",
    "    plt.imshow(img1)\n",
    "    \n",
    "    plt.title('cv2.resize ({},{}), interpolation={}'.format(width1, raw.shape[0], method))\n",
    "    \n",
    "    plt.subplot(1,3,3)\n",
    "    img2 = cv2.resize(raw, (width2, raw.shape[0]), interpolation=method)\n",
    "    plt.xticks([])\n",
    "    plt.imshow(img2)\n",
    "    plt.title('cv2.resize ({},{}), interpolation={}'.format(width2, raw.shape[0], method))\n",
    "    \n",
    "    if(save_out) : plt.savefig(save_out)\n",
    "    return"
   ]
  },
  {
   "cell_type": "code",
   "execution_count": null,
   "metadata": {},
   "outputs": [],
   "source": [
    "compare_interpolation('../demonstrations/rainbow.png', 50, 1, cv2.INTER_LINEAR)"
   ]
  },
  {
   "cell_type": "code",
   "execution_count": null,
   "metadata": {},
   "outputs": [],
   "source": [
    "compare_interpolation('../demonstrations/figure3.jpg', 50, 1, cv2.INTER_LINEAR)"
   ]
  },
  {
   "cell_type": "code",
   "execution_count": null,
   "metadata": {},
   "outputs": [],
   "source": [
    "compare_interpolation('../demonstrations/rotated.png', 50, 1, cv2.INTER_LINEAR)"
   ]
  },
  {
   "cell_type": "code",
   "execution_count": null,
   "metadata": {},
   "outputs": [],
   "source": [
    "compare_interpolation('../demonstrations/madmax_clip.jpg', 50, 1, cv2.INTER_LINEAR)"
   ]
  },
  {
   "cell_type": "code",
   "execution_count": null,
   "metadata": {},
   "outputs": [],
   "source": [
    "compare_interpolation('../demonstrations/spiderman_clip_green.jpg', 50, 1, cv2.INTER_LINEAR)"
   ]
  },
  {
   "cell_type": "markdown",
   "metadata": {},
   "source": [
    "## Using maching learning (more specifically kmeans clustering) to extract more meaningful colors\n",
    "\n",
    "#### NOTE: our contrived examples are (pretty) uniform in colors, so our clustering algorithm converges quickly"
   ]
  },
  {
   "cell_type": "code",
   "execution_count": null,
   "metadata": {},
   "outputs": [],
   "source": [
    "def fit_colors(image, num_col):\n",
    "    model = KMeans(n_clusters=num_col, init='k-means++', n_init=20)\n",
    "    model.fit(image.reshape((-1, 3)))\n",
    "    return model"
   ]
  },
  {
   "cell_type": "code",
   "execution_count": null,
   "metadata": {},
   "outputs": [],
   "source": [
    "def reconstruct_img(cluster_center, labels, shape: tuple):\n",
    "    img = np.zeros(shape, dtype='uint8')\n",
    "    img_ind = 0\n",
    "    for i in range(shape[0]):\n",
    "        for j in range(shape[1]):\n",
    "            img[i][j] = np.around(cluster_center[labels[img_ind]])\n",
    "            img_ind += 1\n",
    "    return img"
   ]
  },
  {
   "cell_type": "code",
   "execution_count": null,
   "metadata": {},
   "outputs": [],
   "source": [
    "def compare_og_recon(fname, num_col, save_out=None):\n",
    "    img = cv2.cvtColor(cv2.imread(fname), cv2.COLOR_RGB2BGR)\n",
    "    model = KMeans(n_clusters=num_col, init='k-means++', n_init=20)\n",
    "    model.fit(img.reshape((-1,3)))\n",
    "    rec_img = reconstruct_img(model.cluster_centers_, model.labels_, img.shape)\n",
    "    \n",
    "    plt.figure(figsize=(12,9))\n",
    "    plt.subplot(1,2,1)\n",
    "    plt.imshow(img)\n",
    "    plt.axis('off')\n",
    "    plt.title('Original Image')\n",
    "    \n",
    "    plt.subplot(1,2,2)\n",
    "    plt.imshow(rec_img)\n",
    "    plt.axis('off')\n",
    "    plt.title('Reconstructed Image (k={})'.format(num_col))\n",
    "    if(save_out) : plt.savefig(save_out)\n",
    "    return"
   ]
  },
  {
   "cell_type": "code",
   "execution_count": null,
   "metadata": {},
   "outputs": [],
   "source": [
    "def compare_kmeans(fname, num_cluster, save_out=None):\n",
    "    img = cv2.cvtColor(cv2.imread(fname), cv2.COLOR_RGB2BGR)\n",
    "    avg_col = np.average(img.reshape((-1, 3)), axis=0)\n",
    "    \n",
    "    plt.subplots_adjust(wspace=0.4, hspace=0.4)\n",
    "    plt.subplot(2,2,1)\n",
    "    plt.imshow(img)\n",
    "    plt.axis('off')\n",
    "    plt.title('Original Image')\n",
    "    \n",
    "    plt.subplot(2,2,2)\n",
    "    plt.imshow(create_col_pic(img.shape, avg_col))\n",
    "    plt.axis('off')\n",
    "    plt.title('Average Color of Image')\n",
    "    \n",
    "    model = KMeans(n_clusters=num_cluster, init='k-means++', n_init=20)\n",
    "    model.fit(img.reshape((-1, 3)))\n",
    "    \n",
    "    recon = reconstruct_img(model.cluster_centers_, model.labels_, img.shape)\n",
    "    plt.subplot(2,2,3)\n",
    "    plt.imshow(recon)\n",
    "    plt.axis('off')\n",
    "    plt.title('Reconstructed Image (k={})'.format(num_cluster))\n",
    "    \n",
    "    plt.subplot(2,2,4)\n",
    "    all_cols = np.zeros(img.shape, dtype='uint8')\n",
    "    cut_h = img.shape[0] // len(model.cluster_centers_)\n",
    "    for ind, c in enumerate(model.cluster_centers_):\n",
    "        all_cols[cut_h*ind:(ind+1)*cut_h, :] = c \n",
    "    plt.imshow(all_cols)\n",
    "    plt.axis('off')\n",
    "    plt.title('KMeans Colors (k={})'.format(num_cluster))\n",
    "    if(save_out) : plt.savefig(save_out)\n",
    "    return"
   ]
  },
  {
   "cell_type": "code",
   "execution_count": null,
   "metadata": {},
   "outputs": [],
   "source": [
    "compare_kmeans('../demonstrations/figure3.jpg', 2)"
   ]
  },
  {
   "cell_type": "code",
   "execution_count": null,
   "metadata": {},
   "outputs": [],
   "source": [
    "compare_kmeans('../demonstrations/rainbow.png', 7)"
   ]
  },
  {
   "cell_type": "code",
   "execution_count": null,
   "metadata": {},
   "outputs": [],
   "source": [
    "compare_kmeans('../demonstrations/rainbow.png', 4)"
   ]
  },
  {
   "cell_type": "markdown",
   "metadata": {},
   "source": [
    "### Instance of our clustering algorithm unable to overquanitfy (special case because of our contrived example)"
   ]
  },
  {
   "cell_type": "code",
   "execution_count": null,
   "metadata": {},
   "outputs": [],
   "source": [
    "compare_kmeans('../demonstrations/rainbow.png', 10)"
   ]
  },
  {
   "cell_type": "code",
   "execution_count": null,
   "metadata": {},
   "outputs": [],
   "source": [
    "compare_kmeans('../demonstrations/madmax_clip.jpg', 8)"
   ]
  },
  {
   "cell_type": "code",
   "execution_count": null,
   "metadata": {},
   "outputs": [],
   "source": [
    "compare_kmeans('../demonstrations/spiderman_clip_green.jpg', 8)"
   ]
  },
  {
   "cell_type": "code",
   "execution_count": null,
   "metadata": {},
   "outputs": [],
   "source": [
    "compare_kmeans('../demonstrations/spideman_city_clip.jpg', 8)"
   ]
  },
  {
   "cell_type": "code",
   "execution_count": null,
   "metadata": {},
   "outputs": [],
   "source": [
    "compare_og_recon('../demonstrations/figure3.jpg', 2)"
   ]
  },
  {
   "cell_type": "code",
   "execution_count": null,
   "metadata": {},
   "outputs": [],
   "source": [
    "compare_og_recon('../demonstrations/madmax_clip.jpg', 8)"
   ]
  },
  {
   "cell_type": "code",
   "execution_count": null,
   "metadata": {},
   "outputs": [],
   "source": [
    "compare_og_recon('../demonstrations/spideman_city_clip.jpg', 8)"
   ]
  },
  {
   "cell_type": "code",
   "execution_count": null,
   "metadata": {},
   "outputs": [],
   "source": [
    "compare_og_recon('../demonstrations/spiderman_clip_green.jpg', 8)"
   ]
  },
  {
   "cell_type": "code",
   "execution_count": null,
   "metadata": {},
   "outputs": [],
   "source": [
    "compare_og_recon('../demonstrations/rainbow.png', 7)"
   ]
  },
  {
   "cell_type": "code",
   "execution_count": null,
   "metadata": {},
   "outputs": [],
   "source": [
    "compare_og_recon('../demonstrations/rainbow.png', 4)"
   ]
  },
  {
   "cell_type": "markdown",
   "metadata": {},
   "source": [
    "### Instances of our clustering algorithm unable to overquanitfy (special case because of our contrived example)"
   ]
  },
  {
   "cell_type": "code",
   "execution_count": null,
   "metadata": {},
   "outputs": [],
   "source": [
    "compare_og_recon('../demonstrations/rainbow.png', 10)"
   ]
  },
  {
   "cell_type": "code",
   "execution_count": null,
   "metadata": {},
   "outputs": [],
   "source": []
  }
 ],
 "metadata": {
  "kernelspec": {
   "display_name": "Python 3",
   "language": "python",
   "name": "python3"
  },
  "language_info": {
   "codemirror_mode": {
    "name": "ipython",
    "version": 3
   },
   "file_extension": ".py",
   "mimetype": "text/x-python",
   "name": "python",
   "nbconvert_exporter": "python",
   "pygments_lexer": "ipython3",
   "version": "3.7.4"
  }
 },
 "nbformat": 4,
 "nbformat_minor": 2
}
